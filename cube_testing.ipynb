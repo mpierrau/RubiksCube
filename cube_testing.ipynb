{
 "cells": [
  {
   "cell_type": "code",
   "execution_count": 53,
   "metadata": {},
   "outputs": [
    {
     "name": "stdout",
     "output_type": "stream",
     "text": [
      "The autoreload extension is already loaded. To reload it, use:\n",
      "  %reload_ext autoreload\n"
     ]
    }
   ],
   "source": [
    "from rubiks import Cube\n",
    "import os\n",
    "from colorama import Fore , Style\n",
    "%load_ext autoreload\n",
    "%autoreload 2"
   ]
  },
  {
   "cell_type": "code",
   "execution_count": 546,
   "metadata": {},
   "outputs": [
    {
     "data": {
      "text/plain": [
       "                            \t                   _________________\n",
       "                            \t                  |                 |\n",
       "                            \t                  |  \u001b[43m\u001b[30m Y \u001b[0m  \u001b[43m\u001b[30m Y \u001b[0m  \u001b[43m\u001b[30m Y \u001b[0m  |\n",
       "UP (U)                      \t                  |  \u001b[43m\u001b[30m Y \u001b[0m  \u001b[43m\u001b[30m Y \u001b[0m  \u001b[43m\u001b[30m Y \u001b[0m  |\n",
       "                            \t                  |  \u001b[43m\u001b[30m Y \u001b[0m  \u001b[43m\u001b[30m Y \u001b[0m  \u001b[43m\u001b[30m Y \u001b[0m  |\n",
       "                            \t                  |_________________|\n",
       "                            \t                  |                 |\n",
       "                            \t                  |  \u001b[41m\u001b[30m R \u001b[0m  \u001b[41m\u001b[30m R \u001b[0m  \u001b[41m\u001b[30m R \u001b[0m  |\n",
       "BACK (B)                    \t                  |  \u001b[41m\u001b[30m R \u001b[0m  \u001b[41m\u001b[30m R \u001b[0m  \u001b[41m\u001b[30m R \u001b[0m  |\n",
       "                            \t                  |  \u001b[41m\u001b[30m R \u001b[0m  \u001b[41m\u001b[30m R \u001b[0m  \u001b[41m\u001b[30m R \u001b[0m  |\n",
       "                            \t _________________|_________________|_________________\n",
       "                            \t|                 |                 |                 |\n",
       "                            \t|  \u001b[42m\u001b[30m G \u001b[0m  \u001b[42m\u001b[30m G \u001b[0m  \u001b[42m\u001b[30m G \u001b[0m  |  \u001b[47m\u001b[30m W \u001b[0m  \u001b[47m\u001b[30m W \u001b[0m  \u001b[47m\u001b[30m W \u001b[0m  |  \u001b[44m\u001b[30m B \u001b[0m  \u001b[44m\u001b[30m B \u001b[0m  \u001b[44m\u001b[30m B \u001b[0m  |\n",
       "LEFT (L) DOWN (D) RIGHT (R) \t|  \u001b[42m\u001b[30m G \u001b[0m  \u001b[42m\u001b[30m G \u001b[0m  \u001b[42m\u001b[30m G \u001b[0m  |  \u001b[47m\u001b[30m W \u001b[0m  \u001b[47m\u001b[30m W \u001b[0m  \u001b[47m\u001b[30m W \u001b[0m  |  \u001b[44m\u001b[30m B \u001b[0m  \u001b[44m\u001b[30m B \u001b[0m  \u001b[44m\u001b[30m B \u001b[0m  |\n",
       "                            \t|  \u001b[42m\u001b[30m G \u001b[0m  \u001b[42m\u001b[30m G \u001b[0m  \u001b[42m\u001b[30m G \u001b[0m  |  \u001b[47m\u001b[30m W \u001b[0m  \u001b[47m\u001b[30m W \u001b[0m  \u001b[47m\u001b[30m W \u001b[0m  |  \u001b[44m\u001b[30m B \u001b[0m  \u001b[44m\u001b[30m B \u001b[0m  \u001b[44m\u001b[30m B \u001b[0m  |\n",
       "                            \t|_________________|_________________|_________________|\n",
       "                            \t                  |                 |\n",
       "                            \t                  |  \u001b[45m\u001b[30m C \u001b[0m  \u001b[45m\u001b[30m C \u001b[0m  \u001b[45m\u001b[30m C \u001b[0m  |\n",
       "FRONT (F)                   \t                  |  \u001b[45m\u001b[30m C \u001b[0m  \u001b[45m\u001b[30m C \u001b[0m  \u001b[45m\u001b[30m C \u001b[0m  |\n",
       "                            \t                  |  \u001b[45m\u001b[30m C \u001b[0m  \u001b[45m\u001b[30m C \u001b[0m  \u001b[45m\u001b[30m C \u001b[0m  |\n",
       "                            \t                  |_________________|"
      ]
     },
     "execution_count": 546,
     "metadata": {},
     "output_type": "execute_result"
    }
   ],
   "source": [
    "c = Cube()\n",
    "c"
   ]
  },
  {
   "cell_type": "code",
   "execution_count": 550,
   "metadata": {},
   "outputs": [
    {
     "name": "stdout",
     "output_type": "stream",
     "text": [
      "                            \t                   _________________\n",
      "                            \t                  |                 |\n",
      "                            \t                  |  \u001b[43m\u001b[30m Y \u001b[0m  \u001b[43m\u001b[30m Y \u001b[0m  \u001b[43m\u001b[30m Y \u001b[0m  |\n",
      "UP (U)                      \t                  |  \u001b[43m\u001b[30m Y \u001b[0m  \u001b[43m\u001b[30m Y \u001b[0m  \u001b[43m\u001b[30m Y \u001b[0m  |\n",
      "                            \t                  |  \u001b[43m\u001b[30m Y \u001b[0m  \u001b[43m\u001b[30m Y \u001b[0m  \u001b[43m\u001b[30m Y \u001b[0m  |\n",
      "                            \t                  |_________________|\n",
      "                            \t                  |                 |\n",
      "                            \t                  |  \u001b[41m\u001b[30m R \u001b[0m  \u001b[41m\u001b[30m R \u001b[0m  \u001b[41m\u001b[30m R \u001b[0m  |\n",
      "BACK (B)                    \t                  |  \u001b[41m\u001b[30m R \u001b[0m  \u001b[41m\u001b[30m R \u001b[0m  \u001b[41m\u001b[30m R \u001b[0m  |\n",
      "                            \t                  |  \u001b[41m\u001b[30m R \u001b[0m  \u001b[41m\u001b[30m R \u001b[0m  \u001b[41m\u001b[30m R \u001b[0m  |\n",
      "                            \t _________________|_________________|_________________\n",
      "                            \t|                 |                 |                 |\n",
      "                            \t|  \u001b[42m\u001b[30m G \u001b[0m  \u001b[42m\u001b[30m G \u001b[0m  \u001b[42m\u001b[30m G \u001b[0m  |  \u001b[47m\u001b[30m W \u001b[0m  \u001b[47m\u001b[30m W \u001b[0m  \u001b[47m\u001b[30m W \u001b[0m  |  \u001b[44m\u001b[30m B \u001b[0m  \u001b[44m\u001b[30m B \u001b[0m  \u001b[44m\u001b[30m B \u001b[0m  |\n",
      "LEFT (L) DOWN (D) RIGHT (R) \t|  \u001b[42m\u001b[30m G \u001b[0m  \u001b[42m\u001b[30m G \u001b[0m  \u001b[42m\u001b[30m G \u001b[0m  |  \u001b[47m\u001b[30m W \u001b[0m  \u001b[47m\u001b[30m W \u001b[0m  \u001b[47m\u001b[30m W \u001b[0m  |  \u001b[44m\u001b[30m B \u001b[0m  \u001b[44m\u001b[30m B \u001b[0m  \u001b[44m\u001b[30m B \u001b[0m  |\n",
      "                            \t|  \u001b[42m\u001b[30m G \u001b[0m  \u001b[42m\u001b[30m G \u001b[0m  \u001b[42m\u001b[30m G \u001b[0m  |  \u001b[47m\u001b[30m W \u001b[0m  \u001b[47m\u001b[30m W \u001b[0m  \u001b[47m\u001b[30m W \u001b[0m  |  \u001b[44m\u001b[30m B \u001b[0m  \u001b[44m\u001b[30m B \u001b[0m  \u001b[44m\u001b[30m B \u001b[0m  |\n",
      "                            \t|_________________|_________________|_________________|\n",
      "                            \t                  |                 |\n",
      "                            \t                  |  \u001b[45m\u001b[30m C \u001b[0m  \u001b[45m\u001b[30m C \u001b[0m  \u001b[45m\u001b[30m C \u001b[0m  |\n",
      "FRONT (F)                   \t                  |  \u001b[45m\u001b[30m C \u001b[0m  \u001b[45m\u001b[30m C \u001b[0m  \u001b[45m\u001b[30m C \u001b[0m  |\n",
      "                            \t                  |  \u001b[45m\u001b[30m C \u001b[0m  \u001b[45m\u001b[30m C \u001b[0m  \u001b[45m\u001b[30m C \u001b[0m  |\n",
      "                            \t                  |_________________|\n"
     ]
    }
   ],
   "source": [
    "c.move(\"f\",show_cube=True)"
   ]
  }
 ],
 "metadata": {
  "kernelspec": {
   "display_name": "Python 3.8.8 ('base')",
   "language": "python",
   "name": "python3"
  },
  "language_info": {
   "codemirror_mode": {
    "name": "ipython",
    "version": 3
   },
   "file_extension": ".py",
   "mimetype": "text/x-python",
   "name": "python",
   "nbconvert_exporter": "python",
   "pygments_lexer": "ipython3",
   "version": "3.8.8"
  },
  "orig_nbformat": 4,
  "vscode": {
   "interpreter": {
    "hash": "cead19d0794b5db4c0b1bf734ae47d24812a90546e6b20fa1ccfd32912620d41"
   }
  }
 },
 "nbformat": 4,
 "nbformat_minor": 2
}
